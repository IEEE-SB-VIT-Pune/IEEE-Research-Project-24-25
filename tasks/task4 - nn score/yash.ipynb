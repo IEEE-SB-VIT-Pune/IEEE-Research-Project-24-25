{
  "cells": [
    {
      "cell_type": "code",
      "execution_count": 2,
      "metadata": {
        "id": "1ZGAdLBzuwpl"
      },
      "outputs": [],
      "source": [
        "import numpy as np\n",
        "import pandas as pd\n",
        "from sklearn.neighbors import NearestNeighbors\n",
        "import random"
      ]
    },
    {
      "cell_type": "code",
      "execution_count": 3,
      "metadata": {
        "id": "fXj2rDG_zRfa"
      },
      "outputs": [],
      "source": [
        "def generate_random_data(n_samples, n_features, min_val=0, max_val=10):\n",
        "    return np.random.uniform(min_val, max_val, (n_samples, n_features))"
      ]
    },
    {
      "cell_type": "code",
      "execution_count": 4,
      "metadata": {
        "id": "oARrSeJMzTnP"
      },
      "outputs": [],
      "source": [
        "def create_adjacency_matrix(data, k):\n",
        "    n_samples = len(data)\n",
        "    knn = NearestNeighbors(n_neighbors=k+1)\n",
        "    knn.fit(data)\n",
        "\n",
        "    _, indices = knn.kneighbors(data)\n",
        "    adj_matrix = np.zeros((n_samples, n_samples))\n",
        "\n",
        "    for i in range(n_samples):\n",
        "        for j in indices[i][1:]:\n",
        "            adj_matrix[i][j] = 1\n",
        "\n",
        "    return adj_matrix"
      ]
    },
    {
      "cell_type": "code",
      "execution_count": 5,
      "metadata": {
        "id": "fczxyMFYzYrT"
      },
      "outputs": [],
      "source": [
        "def calculate_scores(adj_matrix):\n",
        "    n_samples = len(adj_matrix)\n",
        "    nn_scores = np.zeros(n_samples)\n",
        "    mnn_scores = np.zeros(n_samples)\n",
        "\n",
        "    for i in range(n_samples):\n",
        "        for j in range(n_samples):\n",
        "            if i != j and adj_matrix[j][i] == 1:\n",
        "                nn_scores[i] += 1\n",
        "                if adj_matrix[i][j] == 1:\n",
        "                    mnn_scores[i] += 1\n",
        "\n",
        "    return nn_scores, mnn_scores"
      ]
    },
    {
      "cell_type": "code",
      "execution_count": null,
      "metadata": {
        "colab": {
          "base_uri": "https://localhost:8080/"
        },
        "id": "VtDCphrizZWm",
        "outputId": "4347bea6-4d12-422a-ee92-c84f30003d21"
      },
      "outputs": [],
      "source": [
        "k = 2\n",
        "n_samples = 5\n",
        "n_features = 2\n",
        "\n",
        "data = generate_random_data(n_samples, n_features)\n",
        "adj_matrix = create_adjacency_matrix(data, k)\n",
        "nn_scores, mnn_scores = calculate_scores(adj_matrix)\n",
        "\n",
        "results = pd.DataFrame({\n",
        "    'Feature_1': data[:, 0],\n",
        "    'Feature_2': data[:, 1],\n",
        "    'NN Score': nn_scores,\n",
        "    'MNN Score': mnn_scores\n",
        "})\n",
        "\n",
        "print(\"\\nRandom Data Points:\")\n",
        "print(data)\n",
        "print(\"\\nAdjacency Matrix:\")\n",
        "print(adj_matrix)\n",
        "print(\"\\nScores:\")\n",
        "print(results)\n",
        "\n",
        "print(\"\\nDetails:\")\n",
        "for i in range(n_samples):\n",
        "    neighbors = np.where(adj_matrix[i] == 1)[0]\n",
        "    print(f\"Point {i} neighbors: {neighbors}\")\n",
        "    print(f\"NN Score: {nn_scores[i]}\")\n",
        "    print(f\"MNN Score: {mnn_scores[i]}\")\n",
        "    print()"
      ]
    }
  ],
  "metadata": {
    "colab": {
      "provenance": []
    },
    "kernelspec": {
      "display_name": "Python 3",
      "name": "python3"
    },
    "language_info": {
      "name": "python"
    }
  },
  "nbformat": 4,
  "nbformat_minor": 0
}
