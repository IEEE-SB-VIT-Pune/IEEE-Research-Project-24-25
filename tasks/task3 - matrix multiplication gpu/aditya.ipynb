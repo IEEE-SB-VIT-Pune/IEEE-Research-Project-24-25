{
  "nbformat": 4,
  "nbformat_minor": 0,
  "metadata": {
    "colab": {
      "provenance": [],
      "gpuType": "T4",
      "authorship_tag": "ABX9TyNCnM4xWZBCGRrPazs/qDrh",
      "include_colab_link": true
    },
    "kernelspec": {
      "name": "python3",
      "display_name": "Python 3"
    },
    "language_info": {
      "name": "python"
    },
    "accelerator": "GPU"
  },
  "cells": [
    {
      "cell_type": "markdown",
      "metadata": {
        "id": "view-in-github",
        "colab_type": "text"
      },
      "source": [
        "<a href=\"https://colab.research.google.com/github/BlackHat-17/IEEE-Research-Project-24-25/blob/dev/Untitled0.ipynb\" target=\"_parent\"><img src=\"https://colab.research.google.com/assets/colab-badge.svg\" alt=\"Open In Colab\"/></a>"
      ]
    },
    {
      "cell_type": "code",
      "source": [
        "import numpy as np\n",
        "from numba import cuda,float32\n",
        "import math"
      ],
      "metadata": {
        "id": "gZDRYVDma9tG"
      },
      "execution_count": null,
      "outputs": []
    },
    {
      "cell_type": "code",
      "source": [
        "\n",
        "@cuda.jit\n",
        "def f(a,b,c):\n",
        "    pos=cuda.grid(1)\n",
        "    size=len(c)\n",
        "    if pos<size :\n",
        "        c[pos]=a[pos]+b[pos]"
      ],
      "metadata": {
        "id": "iJl35FSCbE3K"
      },
      "execution_count": null,
      "outputs": []
    },
    {
      "cell_type": "code",
      "source": [
        "N=10000\n",
        "a=cuda.to_device(np.random.random(N))\n",
        "b=cuda.to_device(np.random.random(N))\n",
        "c=cuda.device_array_like(a)\n",
        "Tpb=16"
      ],
      "metadata": {
        "id": "qEhoIcMBbI5m"
      },
      "execution_count": null,
      "outputs": []
    },
    {
      "cell_type": "code",
      "source": [
        "nthreads=256\n",
        "nblocks=(len(a)//nthreads)+1\n",
        "f[nblocks,nthreads](a,b,c)\n",
        "c.copy_to_host()"
      ],
      "metadata": {
        "id": "Hnxdh3zGcutH",
        "colab": {
          "base_uri": "https://localhost:8080/"
        },
        "outputId": "211fd3df-7f45-44e0-af86-c9cf420323d2"
      },
      "execution_count": null,
      "outputs": [
        {
          "output_type": "stream",
          "name": "stderr",
          "text": [
            "/usr/local/lib/python3.10/dist-packages/numba/cuda/dispatcher.py:536: NumbaPerformanceWarning: Grid size 40 will likely result in GPU under-utilization due to low occupancy.\n",
            "  warn(NumbaPerformanceWarning(msg))\n"
          ]
        },
        {
          "output_type": "execute_result",
          "data": {
            "text/plain": [
              "array([0.77303233, 1.03776897, 1.60943586, ..., 1.02424524, 0.83423695,\n",
              "       1.32145656])"
            ]
          },
          "metadata": {},
          "execution_count": 6
        }
      ]
    },
    {
      "cell_type": "code",
      "source": [
        "@cuda.jit\n",
        "def matrix_multiply(matrix1,matrix2,res_matrix):\n",
        "    A=cuda.shared.array(shape=(Tpb,Tpb), dtype=float32)\n",
        "    B=cuda.shared.array(shape=(Tpb,Tpb), dtype=float32)\n",
        "    x,y=cuda.grid(2)\n",
        "    tx=cuda.threadIdx.x\n",
        "    ty=cuda.threadIdx.y\n",
        "    bpg=cuda.blockDim.x\n",
        "    temp=float32(0.)\n",
        "    for k in range(bpg):\n",
        "        temp+=matrix1[x,k]*matrix2[k,y]\n",
        "        res_matrix[x,y]=temp"
      ],
      "metadata": {
        "id": "nyx9iHpNd4Hc"
      },
      "execution_count": null,
      "outputs": []
    },
    {
      "cell_type": "code",
      "source": [
        "\n",
        "print(\"matrix 1\")\n",
        "m1=int(input(\"Enter no. of rows:\"))\n",
        "n1=int(input(\"Enter no. of columns:\"))\n",
        "x_h=np.arange(m1*n1).reshape([m1, n1])\n",
        "print(x_h)"
      ],
      "metadata": {
        "colab": {
          "base_uri": "https://localhost:8080/"
        },
        "id": "6wwSY_TeewN8",
        "outputId": "24c5eb51-d26e-448d-86f8-e158d314b6fe"
      },
      "execution_count": null,
      "outputs": [
        {
          "name": "stdout",
          "output_type": "stream",
          "text": [
            "matrix 1\n",
            "Enter no. of rows:3\n",
            "Enter no. of columns:3\n"
          ]
        }
      ]
    },
    {
      "cell_type": "code",
      "source": [
        "print(\"matrix 2\")\n",
        "m2=int(input(\"Enter no. of rows:\"))\n",
        "n2=int(input(\"Enter no. of columns:\"))\n",
        "y_h=np.arange(m2*n2).reshape([m2, n2])\n",
        "print(y_h)"
      ],
      "metadata": {
        "colab": {
          "base_uri": "https://localhost:8080/"
        },
        "id": "ll13HUXgwj9T",
        "outputId": "9ad439e5-7b23-4fe4-bd9d-e1d9ea73779d"
      },
      "execution_count": null,
      "outputs": [
        {
          "output_type": "stream",
          "name": "stdout",
          "text": [
            "matrix 2\n",
            "Enter no. of rows:3\n",
            "Enter no. of columns:3\n",
            "[[0 1 2]\n",
            " [3 4 5]\n",
            " [6 7 8]]\n"
          ]
        }
      ]
    },
    {
      "cell_type": "code",
      "source": [
        "z_h=np.zeros([m1,n2])\n",
        "x_d=cuda.to_device(x_h)\n",
        "y_d=cuda.to_device(y_h)\n",
        "z_d=cuda.to_device(z_h)"
      ],
      "metadata": {
        "id": "l-Ns5cYIYXrQ"
      },
      "execution_count": null,
      "outputs": []
    },
    {
      "cell_type": "code",
      "source": [
        "\n",
        "threadsperblock=(16, 16)\n",
        "blockspergrid_x= math.ceil(z_h.shape[0]/threadsperblock[0])\n",
        "blockspergrid_y= math.ceil(z_h.shape[1]/threadsperblock [1])\n",
        "blockspergrid=(blockspergrid_x, blockspergrid_y)"
      ],
      "metadata": {
        "id": "-zu6tJOqykqz"
      },
      "execution_count": null,
      "outputs": []
    },
    {
      "cell_type": "code",
      "source": [
        "matrix_multiply[blockspergrid,threadsperblock](x_d,y_d,z_d)"
      ],
      "metadata": {
        "id": "7ZAdbkvJfQh0",
        "colab": {
          "base_uri": "https://localhost:8080/"
        },
        "outputId": "82c4c123-438b-46b5-b8cb-5b77c078f6ea"
      },
      "execution_count": null,
      "outputs": [
        {
          "output_type": "stream",
          "name": "stderr",
          "text": [
            "/usr/local/lib/python3.10/dist-packages/numba/cuda/dispatcher.py:536: NumbaPerformanceWarning: Grid size 1 will likely result in GPU under-utilization due to low occupancy.\n",
            "  warn(NumbaPerformanceWarning(msg))\n"
          ]
        }
      ]
    },
    {
      "cell_type": "code",
      "source": [
        "z_h=z_d.copy_to_host()\n",
        "print(z_h)"
      ],
      "metadata": {
        "colab": {
          "base_uri": "https://localhost:8080/"
        },
        "id": "MqgBnPQ8gVKn",
        "outputId": "f09c0e30-922e-40ae-89c9-f2534fe94b2a"
      },
      "execution_count": null,
      "outputs": [
        {
          "output_type": "stream",
          "name": "stdout",
          "text": [
            "[[15. 18. 21.]\n",
            " [ 6.  7. 66.]\n",
            " [ 0.  0.  0.]]\n"
          ]
        }
      ]
    }
  ]
}